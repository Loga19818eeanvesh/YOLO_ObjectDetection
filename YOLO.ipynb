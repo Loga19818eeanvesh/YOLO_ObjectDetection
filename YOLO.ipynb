{
  "nbformat": 4,
  "nbformat_minor": 0,
  "metadata": {
    "colab": {
      "name": "YOLO.ipynb",
      "provenance": [],
      "collapsed_sections": [],
      "authorship_tag": "ABX9TyONe1aaDLRFrgHv8NpV0hEq",
      "include_colab_link": true
    },
    "kernelspec": {
      "name": "python3",
      "display_name": "Python 3"
    },
    "language_info": {
      "name": "python"
    }
  },
  "cells": [
    {
      "cell_type": "markdown",
      "metadata": {
        "id": "view-in-github",
        "colab_type": "text"
      },
      "source": [
        "<a href=\"https://colab.research.google.com/github/Loga19818eeanvesh/YOLO_ObjectDetection/blob/main/YOLO.ipynb\" target=\"_parent\"><img src=\"https://colab.research.google.com/assets/colab-badge.svg\" alt=\"Open In Colab\"/></a>"
      ]
    },
    {
      "cell_type": "code",
      "execution_count": 1,
      "metadata": {
        "colab": {
          "base_uri": "https://localhost:8080/"
        },
        "id": "681y4bFa8rek",
        "outputId": "87d1f13b-2889-428f-a937-77ca919b2798"
      },
      "outputs": [
        {
          "output_type": "stream",
          "name": "stdout",
          "text": [
            "Requirement already satisfied: tensorflow in /usr/local/lib/python3.7/dist-packages (2.8.0)\n",
            "Requirement already satisfied: google-pasta>=0.1.1 in /usr/local/lib/python3.7/dist-packages (from tensorflow) (0.2.0)\n",
            "Requirement already satisfied: flatbuffers>=1.12 in /usr/local/lib/python3.7/dist-packages (from tensorflow) (2.0)\n",
            "Requirement already satisfied: tensorboard<2.9,>=2.8 in /usr/local/lib/python3.7/dist-packages (from tensorflow) (2.8.0)\n",
            "Requirement already satisfied: protobuf>=3.9.2 in /usr/local/lib/python3.7/dist-packages (from tensorflow) (3.17.3)\n",
            "Requirement already satisfied: typing-extensions>=3.6.6 in /usr/local/lib/python3.7/dist-packages (from tensorflow) (3.10.0.2)\n",
            "Requirement already satisfied: keras-preprocessing>=1.1.1 in /usr/local/lib/python3.7/dist-packages (from tensorflow) (1.1.2)\n",
            "Requirement already satisfied: six>=1.12.0 in /usr/local/lib/python3.7/dist-packages (from tensorflow) (1.15.0)\n",
            "Requirement already satisfied: tensorflow-io-gcs-filesystem>=0.23.1 in /usr/local/lib/python3.7/dist-packages (from tensorflow) (0.24.0)\n",
            "Requirement already satisfied: grpcio<2.0,>=1.24.3 in /usr/local/lib/python3.7/dist-packages (from tensorflow) (1.44.0)\n",
            "Requirement already satisfied: h5py>=2.9.0 in /usr/local/lib/python3.7/dist-packages (from tensorflow) (3.1.0)\n",
            "Requirement already satisfied: termcolor>=1.1.0 in /usr/local/lib/python3.7/dist-packages (from tensorflow) (1.1.0)\n",
            "Requirement already satisfied: setuptools in /usr/local/lib/python3.7/dist-packages (from tensorflow) (57.4.0)\n",
            "Requirement already satisfied: numpy>=1.20 in /usr/local/lib/python3.7/dist-packages (from tensorflow) (1.21.5)\n",
            "Requirement already satisfied: libclang>=9.0.1 in /usr/local/lib/python3.7/dist-packages (from tensorflow) (13.0.0)\n",
            "Collecting tf-estimator-nightly==2.8.0.dev2021122109\n",
            "  Downloading tf_estimator_nightly-2.8.0.dev2021122109-py2.py3-none-any.whl (462 kB)\n",
            "\u001b[K     |████████████████████████████████| 462 kB 4.9 MB/s \n",
            "\u001b[?25hRequirement already satisfied: opt-einsum>=2.3.2 in /usr/local/lib/python3.7/dist-packages (from tensorflow) (3.3.0)\n",
            "Requirement already satisfied: keras<2.9,>=2.8.0rc0 in /usr/local/lib/python3.7/dist-packages (from tensorflow) (2.8.0)\n",
            "Requirement already satisfied: gast>=0.2.1 in /usr/local/lib/python3.7/dist-packages (from tensorflow) (0.5.3)\n",
            "Requirement already satisfied: wrapt>=1.11.0 in /usr/local/lib/python3.7/dist-packages (from tensorflow) (1.13.3)\n",
            "Requirement already satisfied: astunparse>=1.6.0 in /usr/local/lib/python3.7/dist-packages (from tensorflow) (1.6.3)\n",
            "Requirement already satisfied: absl-py>=0.4.0 in /usr/local/lib/python3.7/dist-packages (from tensorflow) (1.0.0)\n",
            "Requirement already satisfied: wheel<1.0,>=0.23.0 in /usr/local/lib/python3.7/dist-packages (from astunparse>=1.6.0->tensorflow) (0.37.1)\n",
            "Requirement already satisfied: cached-property in /usr/local/lib/python3.7/dist-packages (from h5py>=2.9.0->tensorflow) (1.5.2)\n",
            "Requirement already satisfied: tensorboard-plugin-wit>=1.6.0 in /usr/local/lib/python3.7/dist-packages (from tensorboard<2.9,>=2.8->tensorflow) (1.8.1)\n",
            "Requirement already satisfied: requests<3,>=2.21.0 in /usr/local/lib/python3.7/dist-packages (from tensorboard<2.9,>=2.8->tensorflow) (2.23.0)\n",
            "Requirement already satisfied: google-auth-oauthlib<0.5,>=0.4.1 in /usr/local/lib/python3.7/dist-packages (from tensorboard<2.9,>=2.8->tensorflow) (0.4.6)\n",
            "Requirement already satisfied: google-auth<3,>=1.6.3 in /usr/local/lib/python3.7/dist-packages (from tensorboard<2.9,>=2.8->tensorflow) (1.35.0)\n",
            "Requirement already satisfied: werkzeug>=0.11.15 in /usr/local/lib/python3.7/dist-packages (from tensorboard<2.9,>=2.8->tensorflow) (1.0.1)\n",
            "Requirement already satisfied: markdown>=2.6.8 in /usr/local/lib/python3.7/dist-packages (from tensorboard<2.9,>=2.8->tensorflow) (3.3.6)\n",
            "Requirement already satisfied: tensorboard-data-server<0.7.0,>=0.6.0 in /usr/local/lib/python3.7/dist-packages (from tensorboard<2.9,>=2.8->tensorflow) (0.6.1)\n",
            "Requirement already satisfied: cachetools<5.0,>=2.0.0 in /usr/local/lib/python3.7/dist-packages (from google-auth<3,>=1.6.3->tensorboard<2.9,>=2.8->tensorflow) (4.2.4)\n",
            "Requirement already satisfied: pyasn1-modules>=0.2.1 in /usr/local/lib/python3.7/dist-packages (from google-auth<3,>=1.6.3->tensorboard<2.9,>=2.8->tensorflow) (0.2.8)\n",
            "Requirement already satisfied: rsa<5,>=3.1.4 in /usr/local/lib/python3.7/dist-packages (from google-auth<3,>=1.6.3->tensorboard<2.9,>=2.8->tensorflow) (4.8)\n",
            "Requirement already satisfied: requests-oauthlib>=0.7.0 in /usr/local/lib/python3.7/dist-packages (from google-auth-oauthlib<0.5,>=0.4.1->tensorboard<2.9,>=2.8->tensorflow) (1.3.1)\n",
            "Requirement already satisfied: importlib-metadata>=4.4 in /usr/local/lib/python3.7/dist-packages (from markdown>=2.6.8->tensorboard<2.9,>=2.8->tensorflow) (4.11.2)\n",
            "Requirement already satisfied: zipp>=0.5 in /usr/local/lib/python3.7/dist-packages (from importlib-metadata>=4.4->markdown>=2.6.8->tensorboard<2.9,>=2.8->tensorflow) (3.7.0)\n",
            "Requirement already satisfied: pyasn1<0.5.0,>=0.4.6 in /usr/local/lib/python3.7/dist-packages (from pyasn1-modules>=0.2.1->google-auth<3,>=1.6.3->tensorboard<2.9,>=2.8->tensorflow) (0.4.8)\n",
            "Requirement already satisfied: urllib3!=1.25.0,!=1.25.1,<1.26,>=1.21.1 in /usr/local/lib/python3.7/dist-packages (from requests<3,>=2.21.0->tensorboard<2.9,>=2.8->tensorflow) (1.24.3)\n",
            "Requirement already satisfied: idna<3,>=2.5 in /usr/local/lib/python3.7/dist-packages (from requests<3,>=2.21.0->tensorboard<2.9,>=2.8->tensorflow) (2.10)\n",
            "Requirement already satisfied: certifi>=2017.4.17 in /usr/local/lib/python3.7/dist-packages (from requests<3,>=2.21.0->tensorboard<2.9,>=2.8->tensorflow) (2021.10.8)\n",
            "Requirement already satisfied: chardet<4,>=3.0.2 in /usr/local/lib/python3.7/dist-packages (from requests<3,>=2.21.0->tensorboard<2.9,>=2.8->tensorflow) (3.0.4)\n",
            "Requirement already satisfied: oauthlib>=3.0.0 in /usr/local/lib/python3.7/dist-packages (from requests-oauthlib>=0.7.0->google-auth-oauthlib<0.5,>=0.4.1->tensorboard<2.9,>=2.8->tensorflow) (3.2.0)\n",
            "Installing collected packages: tf-estimator-nightly\n",
            "Successfully installed tf-estimator-nightly-2.8.0.dev2021122109\n",
            "Requirement already satisfied: keras in /usr/local/lib/python3.7/dist-packages (2.8.0)\n"
          ]
        }
      ],
      "source": [
        "!pip install tensorflow --upgrade\n",
        "!pip install keras --upgrade"
      ]
    },
    {
      "cell_type": "code",
      "source": [
        "import tensorflow as tf \n",
        "print(tf.__version__)"
      ],
      "metadata": {
        "colab": {
          "base_uri": "https://localhost:8080/"
        },
        "id": "4TZ8lMAe9Dbi",
        "outputId": "f2f5e6c2-ddb4-4c7d-eaf4-c45f0542f28b"
      },
      "execution_count": 2,
      "outputs": [
        {
          "output_type": "stream",
          "name": "stdout",
          "text": [
            "2.8.0\n"
          ]
        }
      ]
    },
    {
      "cell_type": "code",
      "source": [
        "from tensorflow.keras import Model\n",
        "from tensorflow.keras.layers import Conv2D,Lambda,BatchNormalization,LeakyReLU,Add,InputLayer,MaxPool2D,Softmax,GlobalAveragePooling2D,Concatenate\n",
        "from tensorflow.keras.activations import relu,softmax\n",
        "from tensorflow.keras.regularizers import l2"
      ],
      "metadata": {
        "id": "Y5vHRNVs9Gfs"
      },
      "execution_count": 12,
      "outputs": []
    },
    {
      "cell_type": "code",
      "source": [
        "class ConvBatchNormRelu(Model):\n",
        "  def __init__(self,noof_filters,kernel_size):\n",
        "    super().__init__()\n",
        "    self.conv2d = Conv2D(filters=noof_filters, kernel_size=kernel_size,padding='same',kernel_regularizer=l2(5e-4))\n",
        "    self.batch_norm = BatchNormalization()\n",
        "    self.relu_activation = LeakyReLU(alpha=0.1)\n",
        "    \n",
        "  def call(self,inputs):\n",
        "    x = self.conv2d(inputs)\n",
        "    x = self.batch_norm(x)\n",
        "    x = self.relu_activation(x)\n",
        "\n",
        "    return x\n",
        "  \n"
      ],
      "metadata": {
        "id": "j4m42r1z9KIG"
      },
      "execution_count": 4,
      "outputs": []
    },
    {
      "cell_type": "code",
      "source": [
        "class BottleNeckBlock(Model):\n",
        "  def __init__(self,noof_filters,n):\n",
        "    super().__init__()\n",
        "    self.n=n\n",
        "    self.conv_3by3_1 = ConvBatchNormRelu(noof_filters=noof_filters,kernel_size=3)\n",
        "    self.conv_1by1_1 = ConvBatchNormRelu(noof_filters=noof_filters/2,kernel_size=1)\n",
        "    self.conv_3by3_2 = ConvBatchNormRelu(noof_filters=noof_filters,kernel_size=3)\n",
        "    if n==5:\n",
        "      self.conv_1by1_2 = ConvBatchNormRelu(noof_filters=noof_filters/2,kernel_size=1)\n",
        "      self.conv_3by3_3 = ConvBatchNormRelu(noof_filters=noof_filters,kernel_size=3)\n",
        "    \n",
        "  def call(self,inputs):\n",
        "    x = self.conv_3by3_1(inputs)\n",
        "    x = self.conv_1by1_1(x)\n",
        "    x = self.conv_3by3_2(x)\n",
        "    if self.n==5:\n",
        "      x = self.conv_1by1_2(x)\n",
        "      x = self.conv_3by3_3(x)\n",
        "\n",
        "    return x\n",
        "    "
      ],
      "metadata": {
        "id": "0s9x-aqzcSU4"
      },
      "execution_count": 5,
      "outputs": []
    },
    {
      "cell_type": "code",
      "source": [
        "class YoloClassifier(Model):\n",
        "  def __init__(self,input_shape=(None,224,224,3),noof_classes=1000):\n",
        "    super().__init__()\n",
        "    self.input_layer = InputLayer(input_shape=input_shape)\n",
        "    self.conv1 = ConvBatchNormRelu(noof_filters=32,kernel_size=3)\n",
        "    self.max_pool = MaxPool2D()\n",
        "    self.conv2 = ConvBatchNormRelu(noof_filters=64,kernel_size=3)\n",
        "    self.bottleneck_block1 = BottleNeckBlock(noof_filters=128,n=3)\n",
        "    self.bottleneck_block2 = BottleNeckBlock(noof_filters=256,n=3)\n",
        "    self.bottleneck_block3 = BottleNeckBlock(noof_filters=512,n=5)\n",
        "    self.bottleneck_block4 = BottleNeckBlock(noof_filters=1024,n=5)\n",
        "    self.conv_1by1 = ConvBatchNormRelu(noof_filters=noof_classes,kernel_size=1)\n",
        "    self.avg_pool = GlobalAveragePooling2D()\n",
        "    self.classifier = Softmax()\n",
        "\n",
        "  def call(self,inputs):\n",
        "    x = self.input_layer(inputs)\n",
        "    x = self.conv1(x)\n",
        "    x = self.max_pool(x)\n",
        "    x = self.conv2(x)\n",
        "    x = self.max_pool(x)\n",
        "    x = self.bottleneck_block1(x)\n",
        "    x = self.max_pool(x)\n",
        "    x = self.bottleneck_block2(x)\n",
        "    x = self.max_pool(x)\n",
        "    x = self.bottleneck_block3(x)\n",
        "    x = self.max_pool(x)\n",
        "    x = self.bottleneck_block4(x)\n",
        "    x = self.conv_1by1(x)\n",
        "    x = self.avg_pool(x)\n",
        "    x = self.classifier(x)\n",
        "\n",
        "    return x"
      ],
      "metadata": {
        "id": "qyMqam8eduyK"
      },
      "execution_count": 6,
      "outputs": []
    },
    {
      "cell_type": "code",
      "source": [
        "yolo_classification_model = YoloClassifier(input_shape=(None,224,224,3),noof_classes=1000)"
      ],
      "metadata": {
        "id": "Gjk9gZaphq6X"
      },
      "execution_count": 7,
      "outputs": []
    },
    {
      "cell_type": "code",
      "source": [
        "yolo_classification_model.build(input_shape=(None,224,224,3))"
      ],
      "metadata": {
        "id": "4YHkAkujiNTT"
      },
      "execution_count": 8,
      "outputs": []
    },
    {
      "cell_type": "code",
      "source": [
        "yolo_classification_model.summary()"
      ],
      "metadata": {
        "colab": {
          "base_uri": "https://localhost:8080/"
        },
        "id": "cb4PiJkOiVs-",
        "outputId": "2fe38405-749c-4724-e0ce-184891c556a4"
      },
      "execution_count": 9,
      "outputs": [
        {
          "output_type": "stream",
          "name": "stdout",
          "text": [
            "Model: \"yolo_classifier\"\n",
            "_________________________________________________________________\n",
            " Layer (type)                Output Shape              Param #   \n",
            "=================================================================\n",
            " input_1 (InputLayer)        [(None, None, 224, 224,   0         \n",
            "                             3)]                                 \n",
            "                                                                 \n",
            " conv_batch_norm_relu (ConvB  multiple                 1024      \n",
            " atchNormRelu)                                                   \n",
            "                                                                 \n",
            " max_pooling2d (MaxPooling2D  multiple                 0         \n",
            " )                                                               \n",
            "                                                                 \n",
            " conv_batch_norm_relu_1 (Con  multiple                 18752     \n",
            " vBatchNormRelu)                                                 \n",
            "                                                                 \n",
            " bottle_neck_block (BottleNe  multiple                 157248    \n",
            " ckBlock)                                                        \n",
            "                                                                 \n",
            " bottle_neck_block_1 (Bottle  multiple                 625792    \n",
            " NeckBlock)                                                      \n",
            "                                                                 \n",
            " bottle_neck_block_2 (Bottle  multiple                 3811328   \n",
            " NeckBlock)                                                      \n",
            "                                                                 \n",
            " bottle_neck_block_3 (Bottle  multiple                 15224832  \n",
            " NeckBlock)                                                      \n",
            "                                                                 \n",
            " conv_batch_norm_relu_18 (Co  multiple                 1029000   \n",
            " nvBatchNormRelu)                                                \n",
            "                                                                 \n",
            " global_average_pooling2d (G  multiple                 0         \n",
            " lobalAveragePooling2D)                                          \n",
            "                                                                 \n",
            " softmax (Softmax)           multiple                  0         \n",
            "                                                                 \n",
            "=================================================================\n",
            "Total params: 20,867,976\n",
            "Trainable params: 20,851,576\n",
            "Non-trainable params: 16,400\n",
            "_________________________________________________________________\n"
          ]
        }
      ]
    },
    {
      "cell_type": "code",
      "source": [
        "yolo_classification_model.layers[5]"
      ],
      "metadata": {
        "colab": {
          "base_uri": "https://localhost:8080/"
        },
        "id": "J2vPfTjiigKL",
        "outputId": "4b31f268-efeb-4399-a102-a7da815fb462"
      },
      "execution_count": 10,
      "outputs": [
        {
          "output_type": "execute_result",
          "data": {
            "text/plain": [
              "<__main__.BottleNeckBlock at 0x7fc16011e590>"
            ]
          },
          "metadata": {},
          "execution_count": 10
        }
      ]
    },
    {
      "cell_type": "code",
      "source": [
        "def space_to_depth_x2(x):\n",
        "    import tensorflow as tf\n",
        "    return tf.nn.space_to_depth(x, block_size=2)\n",
        "\n",
        "\n",
        "def space_to_depth_x2_output_shape(input_shape):\n",
        "    \n",
        "    return (input_shape[0], input_shape[1] // 2, input_shape[2] // 2, 4 *\n",
        "            input_shape[3]) if input_shape[1] else (input_shape[0], None, None,\n",
        "                                                    4 * input_shape[3])"
      ],
      "metadata": {
        "id": "Aa6xiMN0ioZm"
      },
      "execution_count": 15,
      "outputs": []
    },
    {
      "cell_type": "code",
      "source": [
        "class Yolo(Model):\n",
        "  def __init__(self,input_shape=(None,416,416,3),noof_anchors=5,noof_classes=20):\n",
        "    super().__init__()\n",
        "    self.input_layer = InputLayer(input_shape=input_shape)\n",
        "    self.conv1 = ConvBatchNormRelu(noof_filters=32,kernel_size=3)\n",
        "    self.max_pool = MaxPool2D()\n",
        "    self.conv2 = ConvBatchNormRelu(noof_filters=64,kernel_size=3)\n",
        "    self.bottleneck_block1 = BottleNeckBlock(noof_filters=128,n=3)\n",
        "    self.bottleneck_block2 = BottleNeckBlock(noof_filters=256,n=3)\n",
        "    self.bottleneck_block3 = BottleNeckBlock(noof_filters=512,n=5)\n",
        "    self.bottleneck_block4 = BottleNeckBlock(noof_filters=1024,n=5)\n",
        "    self.convl1 = ConvBatchNormRelu(noof_filters=1024,kernel_size=3)\n",
        "    self.convl2 = ConvBatchNormRelu(noof_filters=1024,kernel_size=3)\n",
        "    self.spacial_data_to_depth=Lambda(space_to_depth_x2,output_shape=space_to_depth_x2_output_shape,name='space_to_depth')\n",
        "    self.concat = Concatenate()\n",
        "    self.convl3 = ConvBatchNormRelu(noof_filters=1024,kernel_size=3)\n",
        "    self.output_layer = ConvBatchNormRelu(noof_filters=noof_anchors * (noof_classes + 5),kernel_size=1)\n",
        "\n",
        "  def call(self,inputs):\n",
        "    x = self.input_layer(inputs)\n",
        "    x = self.conv1(x)\n",
        "    x = self.max_pool(x)\n",
        "    x = self.conv2(x)\n",
        "    x = self.max_pool(x)\n",
        "    x = self.bottleneck_block1(x)\n",
        "    x = self.max_pool(x)\n",
        "    x = self.bottleneck_block2(x)\n",
        "    x = self.max_pool(x)\n",
        "    x1 = self.bottleneck_block3(x)\n",
        "    x = self.max_pool(x1)\n",
        "    x = self.bottleneck_block4(x)\n",
        "    x = self.convl1(x)\n",
        "    x = self.convl2(x)\n",
        "    y = self.spacial_data_to_depth(x1)\n",
        "    z = self.concat([x,y])\n",
        "    x = self.convl3(z)\n",
        "\n",
        "    output = self.output_layer(x)\n",
        "\n",
        "    return output\n"
      ],
      "metadata": {
        "id": "8Jk65GRWjAjJ"
      },
      "execution_count": 17,
      "outputs": []
    },
    {
      "cell_type": "code",
      "source": [
        "yolo_model = Yolo()"
      ],
      "metadata": {
        "id": "u25dfpbJnnF5"
      },
      "execution_count": 18,
      "outputs": []
    },
    {
      "cell_type": "code",
      "source": [
        "yolo_model.build(input_shape=(None,416,416,3))"
      ],
      "metadata": {
        "id": "myy-EDe7nw02"
      },
      "execution_count": 19,
      "outputs": []
    },
    {
      "cell_type": "code",
      "source": [
        "yolo_model.summary()"
      ],
      "metadata": {
        "colab": {
          "base_uri": "https://localhost:8080/"
        },
        "id": "XKp805MFn23G",
        "outputId": "8b64d2bf-802f-4869-f6b2-4c0419fab939"
      },
      "execution_count": 20,
      "outputs": [
        {
          "output_type": "stream",
          "name": "stdout",
          "text": [
            "Model: \"yolo\"\n",
            "_________________________________________________________________\n",
            " Layer (type)                Output Shape              Param #   \n",
            "=================================================================\n",
            " input_2 (InputLayer)        [(None, None, 416, 416,   0         \n",
            "                             3)]                                 \n",
            "                                                                 \n",
            " conv_batch_norm_relu_19 (Co  multiple                 1024      \n",
            " nvBatchNormRelu)                                                \n",
            "                                                                 \n",
            " max_pooling2d_1 (MaxPooling  multiple                 0         \n",
            " 2D)                                                             \n",
            "                                                                 \n",
            " conv_batch_norm_relu_20 (Co  multiple                 18752     \n",
            " nvBatchNormRelu)                                                \n",
            "                                                                 \n",
            " bottle_neck_block_4 (Bottle  multiple                 157248    \n",
            " NeckBlock)                                                      \n",
            "                                                                 \n",
            " bottle_neck_block_5 (Bottle  multiple                 625792    \n",
            " NeckBlock)                                                      \n",
            "                                                                 \n",
            " bottle_neck_block_6 (Bottle  multiple                 3811328   \n",
            " NeckBlock)                                                      \n",
            "                                                                 \n",
            " bottle_neck_block_7 (Bottle  multiple                 15224832  \n",
            " NeckBlock)                                                      \n",
            "                                                                 \n",
            " conv_batch_norm_relu_37 (Co  multiple                 9442304   \n",
            " nvBatchNormRelu)                                                \n",
            "                                                                 \n",
            " conv_batch_norm_relu_38 (Co  multiple                 9442304   \n",
            " nvBatchNormRelu)                                                \n",
            "                                                                 \n",
            " space_to_depth (Lambda)     multiple                  0         \n",
            "                                                                 \n",
            " concatenate (Concatenate)   multiple                  0         \n",
            "                                                                 \n",
            " conv_batch_norm_relu_39 (Co  multiple                 28316672  \n",
            " nvBatchNormRelu)                                                \n",
            "                                                                 \n",
            " conv_batch_norm_relu_40 (Co  multiple                 128625    \n",
            " nvBatchNormRelu)                                                \n",
            "                                                                 \n",
            "=================================================================\n",
            "Total params: 67,168,881\n",
            "Trainable params: 67,148,087\n",
            "Non-trainable params: 20,794\n",
            "_________________________________________________________________\n"
          ]
        }
      ]
    }
  ]
}